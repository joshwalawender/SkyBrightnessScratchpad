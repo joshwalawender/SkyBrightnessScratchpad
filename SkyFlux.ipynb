{
 "cells": [
  {
   "cell_type": "code",
   "execution_count": 1,
   "metadata": {},
   "outputs": [],
   "source": [
    "import numpy as np\n",
    "from astropy import units as u\n",
    "from astropy.table import Table, Row\n",
    "\n",
    "%matplotlib inline\n",
    "from matplotlib import pyplot as plt"
   ]
  },
  {
   "cell_type": "code",
   "execution_count": 2,
   "metadata": {},
   "outputs": [
    {
     "data": {
      "text/latex": [
       "$1000 \\; \\mathrm{\\frac{1}{\\mathring{A}\\,s\\,cm^{2}}}$"
      ],
      "text/plain": [
       "<Quantity 1000. 1 / (Angstrom cm2 s)>"
      ]
     },
     "execution_count": 2,
     "metadata": {},
     "output_type": "execute_result"
    }
   ],
   "source": [
    "vega_V = 1e6 / u.cm**2 / u.second / (1000*u.Angstrom)\n",
    "vega_V"
   ]
  },
  {
   "cell_type": "code",
   "execution_count": 3,
   "metadata": {},
   "outputs": [],
   "source": [
    "pixel_scale = 0.18 * u.arcsec\n",
    "aperture = np.pi*(5*u.meter)**2\n",
    "exptime = 300*u.second\n",
    "throughput = 0.75 * u.electron/u.photon\n",
    "filter_bandpass = 80*u.Angstrom"
   ]
  },
  {
   "cell_type": "markdown",
   "metadata": {},
   "source": [
    "# Dark (20th %ile)\n",
    "\n",
    "http://www.gemini.edu/sciops/telescopes-and-sites/observing-condition-constraints/optical-sky-background"
   ]
  },
  {
   "cell_type": "code",
   "execution_count": 4,
   "metadata": {},
   "outputs": [
    {
     "data": {
      "text/latex": [
       "$3.0199517 \\times 10^{-6} \\; \\mathrm{\\frac{ph}{\\mathring{A}\\,s\\,arcsec^{2}\\,cm^{2}}}$"
      ],
      "text/plain": [
       "<Quantity 3.01995172e-06 ph / (Angstrom arcsec2 cm2 s)>"
      ]
     },
     "execution_count": 4,
     "metadata": {},
     "output_type": "execute_result"
    }
   ],
   "source": [
    "sky_brightness_dark = vega_V * 10**(-21.3/2.5) / u.arcsec**2 * u.photon\n",
    "sky_brightness_dark"
   ]
  },
  {
   "cell_type": "code",
   "execution_count": 5,
   "metadata": {},
   "outputs": [
    {
     "name": "stdout",
     "output_type": "stream",
     "text": [
      "Sky Counts Estimate = 1383 electron\n"
     ]
    }
   ],
   "source": [
    "sky_counts_dark = throughput*sky_brightness_dark*pixel_scale**2 * aperture.to(u.cm**2) * filter_bandpass * exptime\n",
    "print(f\"Sky Counts Estimate = {sky_counts_dark:.0f}\")"
   ]
  },
  {
   "cell_type": "code",
   "execution_count": 6,
   "metadata": {},
   "outputs": [
    {
     "name": "stdout",
     "output_type": "stream",
     "text": [
      "Sky Noise Estimate = 37 electron(1/2)\n"
     ]
    }
   ],
   "source": [
    "print(f\"Sky Noise Estimate = {sky_counts_dark**0.5:.0f}\")"
   ]
  },
  {
   "cell_type": "markdown",
   "metadata": {},
   "source": [
    "# Gray (50th %ile)"
   ]
  },
  {
   "cell_type": "code",
   "execution_count": 7,
   "metadata": {},
   "outputs": [
    {
     "data": {
      "text/latex": [
       "$5.2480746 \\times 10^{-6} \\; \\mathrm{\\frac{ph}{\\mathring{A}\\,s\\,arcsec^{2}\\,cm^{2}}}$"
      ],
      "text/plain": [
       "<Quantity 5.2480746e-06 ph / (Angstrom arcsec2 cm2 s)>"
      ]
     },
     "execution_count": 7,
     "metadata": {},
     "output_type": "execute_result"
    }
   ],
   "source": [
    "sky_brightness_gray = vega_V * 10**(-20.7/2.5) / u.arcsec**2 * u.photon\n",
    "sky_brightness_gray"
   ]
  },
  {
   "cell_type": "code",
   "execution_count": 8,
   "metadata": {},
   "outputs": [
    {
     "name": "stdout",
     "output_type": "stream",
     "text": [
      "Sky Counts Estimate = 2404 electron\n"
     ]
    }
   ],
   "source": [
    "sky_counts_gray = throughput*sky_brightness_gray*pixel_scale**2 * aperture.to(u.cm**2) * filter_bandpass * exptime\n",
    "print(f\"Sky Counts Estimate = {sky_counts_gray:.0f}\")"
   ]
  },
  {
   "cell_type": "code",
   "execution_count": 9,
   "metadata": {},
   "outputs": [
    {
     "name": "stdout",
     "output_type": "stream",
     "text": [
      "Sky Noise Estimate = 49 electron(1/2)\n"
     ]
    }
   ],
   "source": [
    "print(f\"Sky Noise Estimate = {sky_counts_gray**0.5:.0f}\")"
   ]
  },
  {
   "cell_type": "markdown",
   "metadata": {},
   "source": [
    "# Bright (80th %ile)"
   ]
  },
  {
   "cell_type": "code",
   "execution_count": 10,
   "metadata": {},
   "outputs": [
    {
     "data": {
      "text/latex": [
       "$1.5848932 \\times 10^{-5} \\; \\mathrm{\\frac{ph}{\\mathring{A}\\,s\\,arcsec^{2}\\,cm^{2}}}$"
      ],
      "text/plain": [
       "<Quantity 1.58489319e-05 ph / (Angstrom arcsec2 cm2 s)>"
      ]
     },
     "execution_count": 10,
     "metadata": {},
     "output_type": "execute_result"
    }
   ],
   "source": [
    "sky_brightness_bright = vega_V * 10**(-19.5/2.5) / u.arcsec**2 * u.photon\n",
    "sky_brightness_bright"
   ]
  },
  {
   "cell_type": "code",
   "execution_count": 11,
   "metadata": {},
   "outputs": [
    {
     "name": "stdout",
     "output_type": "stream",
     "text": [
      "Sky Counts Estimate = 7260 electron\n"
     ]
    }
   ],
   "source": [
    "sky_counts_bright = throughput*sky_brightness_bright*pixel_scale**2 * aperture.to(u.cm**2) * filter_bandpass * exptime\n",
    "print(f\"Sky Counts Estimate = {sky_counts_bright:.0f}\")"
   ]
  },
  {
   "cell_type": "code",
   "execution_count": 12,
   "metadata": {},
   "outputs": [
    {
     "name": "stdout",
     "output_type": "stream",
     "text": [
      "Sky Noise Estimate = 85 electron(1/2)\n"
     ]
    }
   ],
   "source": [
    "print(f\"Sky Noise Estimate = {sky_counts_bright**0.5:.0f}\")"
   ]
  },
  {
   "cell_type": "markdown",
   "metadata": {},
   "source": [
    "# Sky Spectrum"
   ]
  },
  {
   "cell_type": "code",
   "execution_count": 13,
   "metadata": {},
   "outputs": [],
   "source": [
    "t = Table.read('skybg_50_10.dat', format='ascii')"
   ]
  },
  {
   "cell_type": "code",
   "execution_count": 14,
   "metadata": {},
   "outputs": [
    {
     "data": {
      "image/png": "[encoded data removed]",
      "text/plain": [
       "<Figure size 1080x720 with 1 Axes>"
      ]
     },
     "metadata": {
      "needs_background": "light"
     },
     "output_type": "display_data"
    }
   ],
   "source": [
    "lines_labels = ['Ha', 'SII', '', 'Hb', 'OIII']\n",
    "lines = [656.3, 671.6, 673.1, 486.1, 500.7]\n",
    "x1 = 470\n",
    "x2 = 700\n",
    "y1 = 0.4\n",
    "y2 = 1.1*np.ceil(max(t[(t['nm'] > x1) & (t['nm'] < x2)]['phot/s/nm/arcsec^2/m^2']))\n",
    "\n",
    "plt.figure(figsize=(15,10))\n",
    "plt.plot(t['nm'], t['phot/s/nm/arcsec^2/m^2'], 'b-', drawstyle='steps-mid')\n",
    "for i,line in enumerate(lines):\n",
    "    if line > x1 and line < x2:\n",
    "        plt.axvline(line, color='r', ymax=0.9, alpha=0.7)\n",
    "        plt.text(line-0.2, y2*0.75, lines_labels[i], fontsize=18)\n",
    "plt.xlabel('Wavelength (nm)')\n",
    "plt.ylabel('Flux (phot/s/nm/arcsec^2/m^2)')\n",
    "plt.grid()\n",
    "plt.xlim(x1,x2)\n",
    "plt.ylim(y1,y2)\n",
    "plt.yscale('log')\n",
    "plt.show()"
   ]
  },
  {
   "cell_type": "code",
   "execution_count": 15,
   "metadata": {},
   "outputs": [
    {
     "name": "stdout",
     "output_type": "stream",
     "text": [
      "Bandpass: 652.39 to 660.35 = 7.96 nm\n",
      "Sky Flux: 2265.12 electron\n",
      "Sky Noise: 47.6 electron(1/2)\n",
      "Sky Noise Scaled to Dark Time: 36.1 electron(1/2)\n"
     ]
    }
   ],
   "source": [
    "# Around H-alpha\n",
    "filter_bandpass = 80*u.Angstrom\n",
    "central_wavelength = 6563 * u.Angstrom\n",
    "w1 = central_wavelength.to(u.nm).value - filter_bandpass.to(u.nm).value/2\n",
    "w2 = central_wavelength.to(u.nm).value + filter_bandpass.to(u.nm).value/2\n",
    "i1 = np.argmin(abs(t['nm'] - w1))\n",
    "i2 = np.argmin(abs(t['nm'] - w2))\n",
    "\n",
    "sky_flux = 0\n",
    "for i in range(i1, i2):\n",
    "#     print(i, t[i]['nm'], t[i]['phot/s/nm/arcsec^2/m^2'])\n",
    "    sky_flux += t[i]['phot/s/nm/arcsec^2/m^2'] * (t[i+1]['nm'] - t[i]['nm'])\n",
    "sky_flux *= u.photon / u.second / u.arcsec**2 / u.meter**2\n",
    "sky_flux *= aperture\n",
    "sky_flux *= pixel_scale**2\n",
    "sky_flux *= exptime\n",
    "sky_flux *= throughput\n",
    "print(f\"Bandpass: {t['nm'][i1]:.2f} to {t['nm'][i2]:.2f} = {t['nm'][i2]-t['nm'][i1]:.2f} nm\")\n",
    "print(f\"Sky Flux: {sky_flux:.2f}\")\n",
    "print(f\"Sky Noise: {sky_flux**0.5:.1f}\")\n",
    "print(f\"Sky Noise Scaled to Dark Time: {(sky_flux*sky_counts_dark/sky_counts_gray)**0.5:.1f}\")"
   ]
  },
  {
   "cell_type": "code",
   "execution_count": 16,
   "metadata": {},
   "outputs": [
    {
     "name": "stdout",
     "output_type": "stream",
     "text": [
      "Bandpass: 496.63 to 504.59 = 7.96 nm\n",
      "Sky Flux: 2499.53 electron\n",
      "Sky Noise: 50.0 electron(1/2)\n",
      "Sky Noise Scaled to Dark Time: 37.9 electron(1/2)\n"
     ]
    }
   ],
   "source": [
    "# Around OIII\n",
    "filter_bandpass = 80*u.Angstrom\n",
    "central_wavelength = 5007 * u.Angstrom\n",
    "w1 = central_wavelength.to(u.nm).value - filter_bandpass.to(u.nm).value/2\n",
    "w2 = central_wavelength.to(u.nm).value + filter_bandpass.to(u.nm).value/2\n",
    "i1 = np.argmin(abs(t['nm'] - w1))\n",
    "i2 = np.argmin(abs(t['nm'] - w2))\n",
    "\n",
    "sky_flux = 0\n",
    "for i in range(i1, i2):\n",
    "#     print(i, t[i]['nm'], t[i]['phot/s/nm/arcsec^2/m^2'])\n",
    "    sky_flux += t[i]['phot/s/nm/arcsec^2/m^2'] * (t[i+1]['nm'] - t[i]['nm'])\n",
    "sky_flux *= u.photon / u.second / u.arcsec**2 / u.meter**2\n",
    "sky_flux *= aperture\n",
    "sky_flux *= pixel_scale**2\n",
    "sky_flux *= exptime\n",
    "sky_flux *= throughput\n",
    "print(f\"Bandpass: {t['nm'][i1]:.2f} to {t['nm'][i2]:.2f} = {t['nm'][i2]-t['nm'][i1]:.2f} nm\")\n",
    "print(f\"Sky Flux: {sky_flux:.2f}\")\n",
    "print(f\"Sky Noise: {sky_flux**0.5:.1f}\")\n",
    "print(f\"Sky Noise Scaled to Dark Time: {(sky_flux*sky_counts_dark/sky_counts_gray)**0.5:.1f}\")"
   ]
  },
  {
   "cell_type": "code",
   "execution_count": 17,
   "metadata": {},
   "outputs": [
    {
     "name": "stdout",
     "output_type": "stream",
     "text": [
      "Bandpass: 462.14 to 470.10 = 7.96 nm\n",
      "Sky Flux: 2581.12 electron\n",
      "Sky Noise: 50.8 electron(1/2)\n",
      "Sky Noise Scaled to Dark Time: 38.5 electron(1/2)\n"
     ]
    }
   ],
   "source": [
    "# Around H-beta\n",
    "filter_bandpass = 80*u.Angstrom\n",
    "central_wavelength = 4661 * u.Angstrom\n",
    "w1 = central_wavelength.to(u.nm).value - filter_bandpass.to(u.nm).value/2\n",
    "w2 = central_wavelength.to(u.nm).value + filter_bandpass.to(u.nm).value/2\n",
    "i1 = np.argmin(abs(t['nm'] - w1))\n",
    "i2 = np.argmin(abs(t['nm'] - w2))\n",
    "\n",
    "sky_flux = 0\n",
    "for i in range(i1, i2):\n",
    "#     print(i, t[i]['nm'], t[i]['phot/s/nm/arcsec^2/m^2'])\n",
    "    sky_flux += t[i]['phot/s/nm/arcsec^2/m^2'] * (t[i+1]['nm'] - t[i]['nm'])\n",
    "sky_flux *= u.photon / u.second / u.arcsec**2 / u.meter**2\n",
    "sky_flux *= aperture\n",
    "sky_flux *= pixel_scale**2\n",
    "sky_flux *= exptime\n",
    "sky_flux *= throughput\n",
    "print(f\"Bandpass: {t['nm'][i1]:.2f} to {t['nm'][i2]:.2f} = {t['nm'][i2]-t['nm'][i1]:.2f} nm\")\n",
    "print(f\"Sky Flux: {sky_flux:.2f}\")\n",
    "print(f\"Sky Noise: {sky_flux**0.5:.1f}\")\n",
    "print(f\"Sky Noise Scaled to Dark Time: {(sky_flux*sky_counts_dark/sky_counts_gray)**0.5:.1f}\")"
   ]
  },
  {
   "cell_type": "markdown",
   "metadata": {},
   "source": [
    "# Wavelength Shift for Converging Beam\n",
    "\n",
    "lambda_c = lambda_0 (1 - sin(theta)^2/n^2)^0.5"
   ]
  },
  {
   "cell_type": "code",
   "execution_count": 18,
   "metadata": {},
   "outputs": [],
   "source": [
    "n = 1.51 # BK7 is 1.51, Sapphire is 1.76\n",
    "Fratio = 2\n",
    "lambda0 = 6562.8 * u.Angstrom"
   ]
  },
  {
   "cell_type": "code",
   "execution_count": 19,
   "metadata": {},
   "outputs": [],
   "source": [
    "half_angle_Fratio = np.arctan(1/Fratio/2)*u.radian"
   ]
  },
  {
   "cell_type": "code",
   "execution_count": 20,
   "metadata": {},
   "outputs": [
    {
     "data": {
      "text/latex": [
       "$85.20889 \\; \\mathrm{\\mathring{A}}$"
      ],
      "text/plain": [
       "<Quantity 85.2088896 Angstrom>"
      ]
     },
     "execution_count": 20,
     "metadata": {},
     "output_type": "execute_result"
    }
   ],
   "source": [
    "edge_lambda = lambda0 * (1 - np.sin(half_angle_Fratio.value)**2 / n**2)**0.5\n",
    "lambda0 - edge_lambda"
   ]
  },
  {
   "cell_type": "code",
   "execution_count": 21,
   "metadata": {},
   "outputs": [],
   "source": [
    "def annular_area(r, dr=0.1):\n",
    "    return np.pi*( (r+dr)**2 - r**2 )"
   ]
  },
  {
   "cell_type": "code",
   "execution_count": 22,
   "metadata": {},
   "outputs": [],
   "source": [
    "dr = 0.05\n",
    "Fratio = 2\n",
    "fl = 10*Fratio\n",
    "tc = Table(names=('Lambda', 'A'), dtype=('f4', 'f4'))\n",
    "for r in np.arange(0.18, 1+dr, dr):\n",
    "    A = annular_area(r, dr)\n",
    "    HA = np.arctan(r/fl)\n",
    "    lc = lambda0 * (1 - np.sin(HA)**2 / n**2)**0.5\n",
    "    tc.add_row({'Lambda': lc, 'A':A})\n",
    "tc['A'] /= max(tc['A'])"
   ]
  },
  {
   "cell_type": "code",
   "execution_count": 23,
   "metadata": {},
   "outputs": [],
   "source": [
    "# plt.figure(figsize=(10,15))\n",
    "# plt.plot(tc['Lambda'], tc['A'])\n",
    "# plt.show()"
   ]
  },
  {
   "cell_type": "markdown",
   "metadata": {},
   "source": [
    "From\n",
    "http://www.ing.iac.es/astronomy/instruments/cenwave_shift.php\n",
    "\n",
    "lambda - lambda0 = lambda0/2 * ( (n**2-sin(theta)**2)/n - 1 )"
   ]
  },
  {
   "cell_type": "code",
   "execution_count": 24,
   "metadata": {},
   "outputs": [
    {
     "data": {
      "text/latex": [
       "$-42.604445 \\; \\mathrm{\\mathring{A}}$"
      ],
      "text/plain": [
       "<Quantity -42.6044448 Angstrom>"
      ]
     },
     "execution_count": 24,
     "metadata": {},
     "output_type": "execute_result"
    }
   ],
   "source": [
    "dlam = lambda0/2 * ( (n**2-np.sin(half_angle_Fratio)**2)**0.5/n - 1 )\n",
    "dlam"
   ]
  },
  {
   "cell_type": "code",
   "execution_count": 25,
   "metadata": {},
   "outputs": [
    {
     "data": {
      "text/latex": [
       "$14.036243 \\; \\mathrm{rad}$"
      ],
      "text/plain": [
       "<Quantity 14.03624347 rad>"
      ]
     },
     "execution_count": 25,
     "metadata": {},
     "output_type": "execute_result"
    }
   ],
   "source": [
    "half_angle_Fratio*180/np.pi"
   ]
  },
  {
   "cell_type": "code",
   "execution_count": null,
   "metadata": {},
   "outputs": [],
   "source": []
  }
 ],
 "metadata": {
  "kernelspec": {
   "display_name": "Python 3",
   "language": "python",
   "name": "python3"
  },
  "language_info": {
   "codemirror_mode": {
    "name": "ipython",
    "version": 3
   },
   "file_extension": ".py",
   "mimetype": "text/x-python",
   "name": "python",
   "nbconvert_exporter": "python",
   "pygments_lexer": "ipython3",
   "version": "3.6.10"
  }
 },
 "nbformat": 4,
 "nbformat_minor": 4
}
